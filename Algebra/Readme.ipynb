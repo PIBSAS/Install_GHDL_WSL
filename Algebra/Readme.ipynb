# Funciones Lógicas

Dadas las siguientes funciones lógicas:

1. $Z = \overline{A + B \cdot \overline{C} \oplus \overline{B}}$

2. $Z = \overline{A \cdot \overline{(B + \overline{C})}}$

3. $Z = A \cdot B \cdot C$

4. $Z = A \oplus (B \cdot C) + (A \cdot C)$

5. $Z = A \oplus (B \cdot C) + A + B + D$

6. $Z = A + (B \oplus C)$

7. $Z = (A + (B \cdot C)) + (B + C)$

8. $Z = ((A + B) \cdot C) + (A + (D \cdot C))$

9. $Z = (A \oplus C) \cdot (A + B) \cdot (C + D)$

10. $Z = (A + B + C) \oplus C$

11. $Z = (A \cdot B) + (C \oplus D)$

12. $Z = (A + (B \cdot C)) \cdot (B + (C \cdot D))$

13. $Z = (A + (B \cdot C)) \cdot (A + B)$

14. $Z = A + B + C + D$

15. $Z = (A + B) \oplus ((B \cdot C) + D)$

16. $Z = ((A + B) \oplus C) + D$

17. $Z = A + (B \cdot (C + D))$

18. $Z = (A \oplus (B \cdot C)) + D$

19. $Z = (A \cdot B \cdot C) + D$

20. $Z = \overline{A + B + C} + D$

21. $Z = (A \oplus B) \oplus C$

22. $Z = (A + C) \oplus (B \cdot D)$

23. $Z = (A \oplus (B \cdot C)) + (A \cdot B) + D$

24. $Z = (A + B) \cdot (C + D)$

25. $Z = (A \oplus B) + (C \cdot (A + D))$

26. $Z = (A + B) \cdot (C + B)$
