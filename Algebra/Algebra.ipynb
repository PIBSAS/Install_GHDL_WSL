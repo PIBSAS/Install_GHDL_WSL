{
 "cells": [
  {
   "cell_type": "code",
   "execution_count": 5,
   "id": "1eaef390-ad4e-4825-b498-d0a32f107c82",
   "metadata": {},
   "outputs": [
    {
     "data": {
      "text/latex": [
       "$\\displaystyle Z = \\overline{A + B \\cdot \\overline{C}} \\oplus \\overline{B}$"
      ],
      "text/plain": [
       "<IPython.core.display.Math object>"
      ]
     },
     "metadata": {},
     "output_type": "display_data"
    },
    {
     "data": {
      "text/latex": [
       "$\\displaystyle Z = \\overline{A \\cdot \\overline{(B + \\overline{C})}}$"
      ],
      "text/plain": [
       "<IPython.core.display.Math object>"
      ]
     },
     "metadata": {},
     "output_type": "display_data"
    },
    {
     "data": {
      "text/latex": [
       "$\\displaystyle Z = \\overline{A \\cdot \\overline{B \\cdot \\overline{C}}}$"
      ],
      "text/plain": [
       "<IPython.core.display.Math object>"
      ]
     },
     "metadata": {},
     "output_type": "display_data"
    },
    {
     "data": {
      "text/latex": [
       "$\\displaystyle Z = B \\cdot \\overline{C \\cdot A} \\oplus \\overline{A \\cdot \\overline{B + C}} $"
      ],
      "text/plain": [
       "<IPython.core.display.Math object>"
      ]
     },
     "metadata": {},
     "output_type": "display_data"
    },
    {
     "data": {
      "text/latex": [
       "$\\displaystyle Z = A \\oplus (B \\cdot C) + A + B + D$"
      ],
      "text/plain": [
       "<IPython.core.display.Math object>"
      ]
     },
     "metadata": {},
     "output_type": "display_data"
    },
    {
     "data": {
      "text/latex": [
       "$\\displaystyle Z = A + (B \\oplus C)$"
      ],
      "text/plain": [
       "<IPython.core.display.Math object>"
      ]
     },
     "metadata": {},
     "output_type": "display_data"
    },
    {
     "data": {
      "text/latex": [
       "$\\displaystyle Z = (A + (B \\cdot C)) + (B + C)$"
      ],
      "text/plain": [
       "<IPython.core.display.Math object>"
      ]
     },
     "metadata": {},
     "output_type": "display_data"
    },
    {
     "data": {
      "text/latex": [
       "$\\displaystyle Z = ((A + B) \\cdot C) + (A + (D \\cdot C))$"
      ],
      "text/plain": [
       "<IPython.core.display.Math object>"
      ]
     },
     "metadata": {},
     "output_type": "display_data"
    },
    {
     "data": {
      "text/latex": [
       "$\\displaystyle Z = (A \\oplus C) \\cdot (A + B) \\cdot (C + D)$"
      ],
      "text/plain": [
       "<IPython.core.display.Math object>"
      ]
     },
     "metadata": {},
     "output_type": "display_data"
    },
    {
     "data": {
      "text/latex": [
       "$\\displaystyle Z = (A + B + C) \\oplus C$"
      ],
      "text/plain": [
       "<IPython.core.display.Math object>"
      ]
     },
     "metadata": {},
     "output_type": "display_data"
    },
    {
     "data": {
      "text/latex": [
       "$\\displaystyle Z = (A \\cdot B) + (C \\oplus D)$"
      ],
      "text/plain": [
       "<IPython.core.display.Math object>"
      ]
     },
     "metadata": {},
     "output_type": "display_data"
    },
    {
     "data": {
      "text/latex": [
       "$\\displaystyle Z = (A + (B \\cdot C)) \\cdot (B + (C \\cdot D))$"
      ],
      "text/plain": [
       "<IPython.core.display.Math object>"
      ]
     },
     "metadata": {},
     "output_type": "display_data"
    },
    {
     "data": {
      "text/latex": [
       "$\\displaystyle Z = (A + (B \\cdot C)) \\cdot (A + B)$"
      ],
      "text/plain": [
       "<IPython.core.display.Math object>"
      ]
     },
     "metadata": {},
     "output_type": "display_data"
    },
    {
     "data": {
      "text/latex": [
       "$\\displaystyle Z = A + B + C + D$"
      ],
      "text/plain": [
       "<IPython.core.display.Math object>"
      ]
     },
     "metadata": {},
     "output_type": "display_data"
    },
    {
     "data": {
      "text/latex": [
       "$\\displaystyle Z = (A + B) \\oplus ((B \\cdot C) + D)$"
      ],
      "text/plain": [
       "<IPython.core.display.Math object>"
      ]
     },
     "metadata": {},
     "output_type": "display_data"
    },
    {
     "data": {
      "text/latex": [
       "$\\displaystyle Z = ((A + B) \\oplus C) + D$"
      ],
      "text/plain": [
       "<IPython.core.display.Math object>"
      ]
     },
     "metadata": {},
     "output_type": "display_data"
    },
    {
     "data": {
      "text/latex": [
       "$\\displaystyle Z = A + (B \\cdot (C + D))$"
      ],
      "text/plain": [
       "<IPython.core.display.Math object>"
      ]
     },
     "metadata": {},
     "output_type": "display_data"
    },
    {
     "data": {
      "text/latex": [
       "$\\displaystyle Z = (A \\oplus (B \\cdot C)) + D$"
      ],
      "text/plain": [
       "<IPython.core.display.Math object>"
      ]
     },
     "metadata": {},
     "output_type": "display_data"
    },
    {
     "data": {
      "text/latex": [
       "$\\displaystyle Z = (A \\cdot B \\cdot C) + D$"
      ],
      "text/plain": [
       "<IPython.core.display.Math object>"
      ]
     },
     "metadata": {},
     "output_type": "display_data"
    },
    {
     "data": {
      "text/latex": [
       "$\\displaystyle Z = \\overline{A + B + C} + D$"
      ],
      "text/plain": [
       "<IPython.core.display.Math object>"
      ]
     },
     "metadata": {},
     "output_type": "display_data"
    },
    {
     "data": {
      "text/latex": [
       "$\\displaystyle Z = (A \\oplus B) \\oplus C$"
      ],
      "text/plain": [
       "<IPython.core.display.Math object>"
      ]
     },
     "metadata": {},
     "output_type": "display_data"
    },
    {
     "data": {
      "text/latex": [
       "$\\displaystyle Z = (A + C) \\oplus (B \\cdot D)$"
      ],
      "text/plain": [
       "<IPython.core.display.Math object>"
      ]
     },
     "metadata": {},
     "output_type": "display_data"
    },
    {
     "data": {
      "text/latex": [
       "$\\displaystyle Z = (A \\oplus (B \\cdot C)) + (A \\cdot B) + D$"
      ],
      "text/plain": [
       "<IPython.core.display.Math object>"
      ]
     },
     "metadata": {},
     "output_type": "display_data"
    },
    {
     "data": {
      "text/latex": [
       "$\\displaystyle Z = (A + B) \\cdot (C + D)$"
      ],
      "text/plain": [
       "<IPython.core.display.Math object>"
      ]
     },
     "metadata": {},
     "output_type": "display_data"
    },
    {
     "data": {
      "text/latex": [
       "$\\displaystyle Z = (A \\oplus B) + (C \\cdot (A + D))$"
      ],
      "text/plain": [
       "<IPython.core.display.Math object>"
      ]
     },
     "metadata": {},
     "output_type": "display_data"
    },
    {
     "data": {
      "text/latex": [
       "$\\displaystyle Z = (A + B) \\cdot (C + B)$"
      ],
      "text/plain": [
       "<IPython.core.display.Math object>"
      ]
     },
     "metadata": {},
     "output_type": "display_data"
    }
   ],
   "source": [
    "from IPython.display import display, Math\n",
    "\n",
    "# Displaying the logical functions using LaTeX\n",
    "display( Math(r\"Z = \\overline{A + B \\cdot \\overline{C}} \\oplus \\overline{B}\"))\n",
    "display( Math(r\"Z = \\overline{A \\cdot \\overline{(B + \\overline{C})}}\"))\n",
    "display( Math(r\"Z = \\overline{A \\cdot \\overline{B \\cdot \\overline{C}}}\"))\n",
    "\n",
    "display( Math(r\"Z = B \\cdot \\overline{C \\cdot A} \\oplus \\overline{A \\cdot \\overline{B + C}} \"))\n",
    "\n",
    "display( Math(r\"Z = A \\oplus (B \\cdot C) + A + B + D\"))\n",
    "display( Math(r\"Z = A + (B \\oplus C)\"))\n",
    "display(Math(r\"Z = (A + (B \\cdot C)) + (B + C)\"))\n",
    "display(Math(r\"Z = ((A + B) \\cdot C) + (A + (D \\cdot C))\"))\n",
    "display(Math(r\"Z = (A \\oplus C) \\cdot (A + B) \\cdot (C + D)\"))\n",
    "display(Math(r\"Z = (A + B + C) \\oplus C\"))\n",
    "display(Math(r\"Z = (A \\cdot B) + (C \\oplus D)\"))\n",
    "display(Math(r\"Z = (A + (B \\cdot C)) \\cdot (B + (C \\cdot D))\"))\n",
    "display(Math(r\"Z = (A + (B \\cdot C)) \\cdot (A + B)\"))\n",
    "display(Math(r\"Z = A + B + C + D\"))\n",
    "display(Math(r\"Z = (A + B) \\oplus ((B \\cdot C) + D)\"))\n",
    "display(Math(r\"Z = ((A + B) \\oplus C) + D\"))\n",
    "display(Math(r\"Z = A + (B \\cdot (C + D))\"))\n",
    "display(Math(r\"Z = (A \\oplus (B \\cdot C)) + D\"))\n",
    "display(Math(r\"Z = (A \\cdot B \\cdot C) + D\"))\n",
    "display(Math(r\"Z = \\overline{A + B + C} + D\"))\n",
    "display(Math(r\"Z = (A \\oplus B) \\oplus C\"))\n",
    "display(Math(r\"Z = (A + C) \\oplus (B \\cdot D)\"))\n",
    "display(Math(r\"Z = (A \\oplus (B \\cdot C)) + (A \\cdot B) + D\"))\n",
    "display(Math(r\"Z = (A + B) \\cdot (C + D)\"))\n",
    "display(Math(r\"Z = (A \\oplus B) + (C \\cdot (A + D))\"))\n",
    "display(Math(r\"Z = (A + B) \\cdot (C + B)\"))\n"
   ]
  },
  {
   "cell_type": "code",
   "execution_count": null,
   "id": "d45f4937-84de-4ea2-9fdc-6e0afe8f7569",
   "metadata": {},
   "outputs": [],
   "source": []
  }
 ],
 "metadata": {
  "kernelspec": {
   "display_name": "Python 3 (ipykernel)",
   "language": "python",
   "name": "python3"
  },
  "language_info": {
   "codemirror_mode": {
    "name": "ipython",
    "version": 3
   },
   "file_extension": ".py",
   "mimetype": "text/x-python",
   "name": "python",
   "nbconvert_exporter": "python",
   "pygments_lexer": "ipython3",
   "version": "3.11.2"
  }
 },
 "nbformat": 4,
 "nbformat_minor": 5
}
