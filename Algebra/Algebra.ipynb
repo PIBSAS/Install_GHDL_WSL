{
 "cells": [
  {
   "cell_type": "code",
   "execution_count": 38,
   "id": "1eaef390-ad4e-4825-b498-d0a32f107c82",
   "metadata": {},
   "outputs": [
    {
     "data": {
      "text/latex": [
       "$\\displaystyle 1.\\ Z = \\overline{A + B \\cdot \\overline{C}} \\oplus \\overline{B}$"
      ],
      "text/plain": [
       "<IPython.core.display.Math object>"
      ]
     },
     "metadata": {},
     "output_type": "display_data"
    },
    {
     "data": {
      "text/latex": [
       "$\\displaystyle 2.\\ Z = \\overline{A \\cdot \\overline{(B + \\overline{C})}}$"
      ],
      "text/plain": [
       "<IPython.core.display.Math object>"
      ]
     },
     "metadata": {},
     "output_type": "display_data"
    },
    {
     "data": {
      "text/latex": [
       "$\\displaystyle 3.\\ Z = \\overline{A \\cdot \\overline{B \\cdot \\overline{C}}}$"
      ],
      "text/plain": [
       "<IPython.core.display.Math object>"
      ]
     },
     "metadata": {},
     "output_type": "display_data"
    },
    {
     "data": {
      "text/latex": [
       "$\\displaystyle 4.\\ Z = B \\cdot \\overline{C \\cdot A} \\oplus \\overline{A \\cdot \\overline{B + C}} $"
      ],
      "text/plain": [
       "<IPython.core.display.Math object>"
      ]
     },
     "metadata": {},
     "output_type": "display_data"
    },
    {
     "data": {
      "text/latex": [
       "$\\displaystyle 5.\\ Z = B\\cdot \\overline{C \\cdot A} \\oplus \\overline{A \\cdot \\overline{B + C} + D}$"
      ],
      "text/plain": [
       "<IPython.core.display.Math object>"
      ]
     },
     "metadata": {},
     "output_type": "display_data"
    },
    {
     "data": {
      "text/latex": [
       "$\\displaystyle 6.\\ Z = \\overline{A \\cdot B + C} \\oplus A$"
      ],
      "text/plain": [
       "<IPython.core.display.Math object>"
      ]
     },
     "metadata": {},
     "output_type": "display_data"
    },
    {
     "data": {
      "text/latex": [
       "$\\displaystyle 7.\\ Z = \\overline{(B + C) \\cdot \\overline{A \\cdot B + C}} $"
      ],
      "text/plain": [
       "<IPython.core.display.Math object>"
      ]
     },
     "metadata": {},
     "output_type": "display_data"
    },
    {
     "data": {
      "text/latex": [
       "$\\displaystyle 8.\\ Z = ((D + C) + A \\cdot \\overline{B \\cdot \\overline{C}}) \\cdot (B \\cdot \\overline{A} + C)$"
      ],
      "text/plain": [
       "<IPython.core.display.Math object>"
      ]
     },
     "metadata": {},
     "output_type": "display_data"
    },
    {
     "data": {
      "text/latex": [
       "$\\displaystyle 9.\\ Z = (A \\cdot \\overline{C} \\oplus A \\cdot B) \\cdot (\\overline{A \\cdot \\overline{C \\cdot \\overline{D}}})$"
      ],
      "text/plain": [
       "<IPython.core.display.Math object>"
      ]
     },
     "metadata": {},
     "output_type": "display_data"
    },
    {
     "data": {
      "text/latex": [
       "$\\displaystyle 10.\\ Z = A \\cdot \\overline{(B \\oplus C)}$"
      ],
      "text/plain": [
       "<IPython.core.display.Math object>"
      ]
     },
     "metadata": {},
     "output_type": "display_data"
    },
    {
     "data": {
      "text/latex": [
       "$\\displaystyle 11.\\ Z = (D + \\overline{C\\overline{B}}) \\oplus \\overline{A} \\cdot C$"
      ],
      "text/plain": [
       "<IPython.core.display.Math object>"
      ]
     },
     "metadata": {},
     "output_type": "display_data"
    },
    {
     "data": {
      "text/latex": [
       "$\\displaystyle 12.\\ Z = \\overline{A \\cdot B \\cdot\\overline{C}} \\cdot (A \\cdot \\overline{B} + D \\cdot \\overline{A \\cdot C} \\cdot (\\overline{C \\cdot A + B}))$"
      ],
      "text/plain": [
       "<IPython.core.display.Math object>"
      ]
     },
     "metadata": {},
     "output_type": "display_data"
    },
    {
     "data": {
      "text/latex": [
       "$\\displaystyle 13.\\ Z = (\\overline{A \\cdot \\overline{B \\cdot \\overline{C}}}) \\cdot (\\overline{D + \\overline{A \\cdot \\overline{B}}})$"
      ],
      "text/plain": [
       "<IPython.core.display.Math object>"
      ]
     },
     "metadata": {},
     "output_type": "display_data"
    },
    {
     "data": {
      "text/latex": [
       "$\\displaystyle 14.\\ Z = \\overline{\\overline{\\overline{\\overline{A} \\cdot B} \\cdot C} \\cdot D} \\cdot \\overline{\\overline{\\overline{\\overline{A} + B} + C} + D}$"
      ],
      "text/plain": [
       "<IPython.core.display.Math object>"
      ]
     },
     "metadata": {},
     "output_type": "display_data"
    },
    {
     "data": {
      "text/latex": [
       "$\\displaystyle 15.\\ Z = (\\overline{\\overline{A \\cdot B} \\cdot C}) \\oplus \\overline{\\overline{B} + D}$"
      ],
      "text/plain": [
       "<IPython.core.display.Math object>"
      ]
     },
     "metadata": {},
     "output_type": "display_data"
    },
    {
     "data": {
      "text/latex": [
       "$\\displaystyle 16.\\ Z = (D \\cdot \\overline{B} + \\overline{\\overline{A} \\cdot C}) \\oplus \\overline{\\overline{C} + B + A}$"
      ],
      "text/plain": [
       "<IPython.core.display.Math object>"
      ]
     },
     "metadata": {},
     "output_type": "display_data"
    },
    {
     "data": {
      "text/latex": [
       "$\\displaystyle 17.\\ Z = \\overline{\\overline{\\overline{C \\cdot B}+ \\overline{C}A} + B \\cdot \\overline{A}}$"
      ],
      "text/plain": [
       "<IPython.core.display.Math object>"
      ]
     },
     "metadata": {},
     "output_type": "display_data"
    },
    {
     "data": {
      "text/latex": [
       "$\\displaystyle 18.\\ Z = \\overline{\\overline{A \\cdot B} \\cdot C} \\oplus \\overline{\\overline{\\overline{B} \\cdot \\overline{C}} \\cdot \\overline{D}} $"
      ],
      "text/plain": [
       "<IPython.core.display.Math object>"
      ]
     },
     "metadata": {},
     "output_type": "display_data"
    },
    {
     "data": {
      "text/latex": [
       "$\\displaystyle 19.\\ Z = \\overline{\\overline{\\overline{\\overline{A} \\cdot B} \\cdot C} \\cdot D}$"
      ],
      "text/plain": [
       "<IPython.core.display.Math object>"
      ]
     },
     "metadata": {},
     "output_type": "display_data"
    },
    {
     "data": {
      "text/latex": [
       "$\\displaystyle 20.\\ Z = \\overline{\\overline{\\overline{\\overline{A} + B} + C} + D}$"
      ],
      "text/plain": [
       "<IPython.core.display.Math object>"
      ]
     },
     "metadata": {},
     "output_type": "display_data"
    },
    {
     "data": {
      "text/latex": [
       "$\\displaystyle 21.\\ Z = (A \\oplus B) \\oplus C$"
      ],
      "text/plain": [
       "<IPython.core.display.Math object>"
      ]
     },
     "metadata": {},
     "output_type": "display_data"
    },
    {
     "data": {
      "text/latex": [
       "$\\displaystyle 22.\\ Z = C \\cdot \\overline{A} \\oplus (\\overline{C \\cdot \\overline{B}} + D)$"
      ],
      "text/plain": [
       "<IPython.core.display.Math object>"
      ]
     },
     "metadata": {},
     "output_type": "display_data"
    },
    {
     "data": {
      "text/latex": [
       "$\\displaystyle 23.\\ Z = B \\cdot \\overline{C \\cdot A} \\oplus \\overline{A \\cdot \\overline{B}+ D}$"
      ],
      "text/plain": [
       "<IPython.core.display.Math object>"
      ]
     },
     "metadata": {},
     "output_type": "display_data"
    },
    {
     "data": {
      "text/latex": [
       "$\\displaystyle 24.\\ Z = (\\overline{\\overline{A} \\cdot B} + C) \\cdot (\\overline{B + \\overline{A}})$"
      ],
      "text/plain": [
       "<IPython.core.display.Math object>"
      ]
     },
     "metadata": {},
     "output_type": "display_data"
    },
    {
     "data": {
      "text/latex": [
       "$\\displaystyle 25.\\ Z = \\overline{(D\\cdot B} \\cdot A) \\oplus (A + \\overline{\\overline{C \\cdot D} \\cdot B)})$"
      ],
      "text/plain": [
       "<IPython.core.display.Math object>"
      ]
     },
     "metadata": {},
     "output_type": "display_data"
    },
    {
     "data": {
      "text/latex": [
       "$\\displaystyle 26.\\ Z = \\overline{(\\overline{A} \\cdot  B + C)} \\cdot \\overline{(A \\cdot \\overline{B} \\cdot C)}$"
      ],
      "text/plain": [
       "<IPython.core.display.Math object>"
      ]
     },
     "metadata": {},
     "output_type": "display_data"
    }
   ],
   "source": [
    "from IPython.display import display, Math\n",
    "\n",
    "# Displaying the logical functions using LaTeX\n",
    "display( Math(r\"1.\\ Z = \\overline{A + B \\cdot \\overline{C}} \\oplus \\overline{B}\"))\n",
    "display( Math(r\"2.\\ Z = \\overline{A \\cdot \\overline{(B + \\overline{C})}}\"))\n",
    "display( Math(r\"3.\\ Z = \\overline{A \\cdot \\overline{B \\cdot \\overline{C}}}\"))\n",
    "display( Math(r\"4.\\ Z = B \\cdot \\overline{C \\cdot A} \\oplus \\overline{A \\cdot \\overline{B + C}} \"))\n",
    "display( Math(r\"5.\\ Z = B\\cdot \\overline{C \\cdot A} \\oplus \\overline{A \\cdot \\overline{B + C} + D}\"))\n",
    "display(Math(r\"6.\\ Z = \\overline{A \\cdot B + C} \\oplus A\"))\n",
    "display(Math(r\"7.\\ Z = \\overline{(B + C) \\cdot \\overline{A \\cdot B + C}} \"))\n",
    "display(Math(r\"8.\\ Z = ((D + C) + A \\cdot \\overline{B \\cdot \\overline{C}}) \\cdot (B \\cdot \\overline{A} + C)\"))\n",
    "display(Math(r\"9.\\ Z = (A \\cdot \\overline{C} \\oplus A \\cdot B) \\cdot (\\overline{A \\cdot \\overline{C \\cdot \\overline{D}}})\"))\n",
    "display( Math(r\"10.\\ Z = A \\cdot \\overline{(B \\oplus C)}\"))\n",
    "display(Math(r\"11.\\ Z = (D + \\overline{C\\overline{B}}) \\oplus \\overline{A} \\cdot C\"))\n",
    "display(Math(r\"12.\\ Z = \\overline{A \\cdot B \\cdot\\overline{C}} \\cdot (A \\cdot \\overline{B} + D \\cdot \\overline{A \\cdot C} \\cdot (\\overline{C \\cdot A + B}))\"))\n",
    "display(Math(r\"13.\\ Z = (\\overline{A \\cdot \\overline{B \\cdot \\overline{C}}}) \\cdot (\\overline{D + \\overline{A \\cdot \\overline{B}}})\"))\n",
    "display(Math(r\"14.\\ Z = \\overline{\\overline{\\overline{\\overline{A} \\cdot B} \\cdot C} \\cdot D} \\cdot \\overline{\\overline{\\overline{\\overline{A} + B} + C} + D}\"))\n",
    "display(Math(r\"15.\\ Z = (\\overline{\\overline{A \\cdot B} \\cdot C}) \\oplus \\overline{\\overline{B} + D}\"))\n",
    "display(Math(r\"16.\\ Z = (D \\cdot \\overline{B} + \\overline{\\overline{A} \\cdot C}) \\oplus \\overline{\\overline{C} + B + A}\"))\n",
    "display(Math(r\"17.\\ Z = \\overline{\\overline{\\overline{C \\cdot B}+ \\overline{C}A} + B \\cdot \\overline{A}}\"))\n",
    "display(Math(r\"18.\\ Z = \\overline{\\overline{A \\cdot B} \\cdot C} \\oplus \\overline{\\overline{\\overline{B} \\cdot \\overline{C}} \\cdot \\overline{D}} \"))\n",
    "display(Math(r\"19.\\ Z = \\overline{\\overline{\\overline{\\overline{A} \\cdot B} \\cdot C} \\cdot D}\"))\n",
    "display(Math(r\"20.\\ Z = \\overline{\\overline{\\overline{\\overline{A} + B} + C} + D}\"))\n",
    "display(Math(r\"21.\\ Z = (A \\oplus B) \\oplus C\"))\n",
    "display(Math(r\"22.\\ Z = C \\cdot \\overline{A} \\oplus (\\overline{C \\cdot \\overline{B}} + D)\"))\n",
    "display(Math(r\"23.\\ Z = B \\cdot \\overline{C \\cdot A} \\oplus \\overline{A \\cdot \\overline{B}+ D}\"))\n",
    "display(Math(r\"24.\\ Z = (\\overline{\\overline{A} \\cdot B} + C) \\cdot (\\overline{B + \\overline{A}})\"))\n",
    "display(Math(r\"25.\\ Z = \\overline{(D\\cdot B} \\cdot A) \\oplus (A + \\overline{\\overline{C \\cdot D} \\cdot B)})\"))\n",
    "display(Math(r\"26.\\ Z = \\overline{(\\overline{A} \\cdot  B + C)} \\cdot \\overline{(A \\cdot \\overline{B} \\cdot C)}\"))"
   ]
  },
  {
   "cell_type": "code",
   "execution_count": null,
   "id": "d45f4937-84de-4ea2-9fdc-6e0afe8f7569",
   "metadata": {},
   "outputs": [],
   "source": []
  },
  {
   "cell_type": "code",
   "execution_count": null,
   "id": "d7c7f360-6352-4b23-a954-5d4a6ea6d30e",
   "metadata": {},
   "outputs": [],
   "source": []
  }
 ],
 "metadata": {
  "kernelspec": {
   "display_name": "Python 3 (ipykernel)",
   "language": "python",
   "name": "python3"
  },
  "language_info": {
   "codemirror_mode": {
    "name": "ipython",
    "version": 3
   },
   "file_extension": ".py",
   "mimetype": "text/x-python",
   "name": "python",
   "nbconvert_exporter": "python",
   "pygments_lexer": "ipython3",
   "version": "3.11.2"
  }
 },
 "nbformat": 4,
 "nbformat_minor": 5
}
